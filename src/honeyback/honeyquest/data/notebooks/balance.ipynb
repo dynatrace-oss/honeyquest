{
 "cells": [
  {
   "cell_type": "code",
   "execution_count": 5,
   "metadata": {},
   "outputs": [],
   "source": [
    "import sys\n",
    "import pathlib\n",
    "\n",
    "from dotenv import dotenv_values\n",
    "\n",
    "# honeyquest path hack to make module imports work\n",
    "__package__ = \"honeyquest\"\n",
    "modulepath = pathlib.Path.cwd().joinpath(\"../../../\").resolve().as_posix()\n",
    "if modulepath not in sys.path:\n",
    "    sys.path.append(modulepath)\n",
    "\n",
    "from honeyquest.data.ops.loading import parse_all_queries, parse_index_buckets"
   ]
  },
  {
   "cell_type": "code",
   "execution_count": 6,
   "metadata": {},
   "outputs": [],
   "source": [
    "NB_CONFIG = {**dotenv_values(\".env.shared\"), **dotenv_values(\".env.local\")}\n",
    "\n",
    "QUERY_DATA_PATH = pathlib.Path.cwd().joinpath(NB_CONFIG[\"QUERY_DATA_PATH\"]).resolve().as_posix()\n",
    "QUERY_INDEX_PATH = pathlib.Path.cwd().joinpath(NB_CONFIG[\"QUERY_INDEX_PATH\"]).resolve().as_posix()\n",
    "\n",
    "QUERIES = parse_all_queries(QUERY_DATA_PATH)\n",
    "BUCKETS = parse_index_buckets(QUERY_INDEX_PATH)"
   ]
  },
  {
   "cell_type": "code",
   "execution_count": 7,
   "metadata": {},
   "outputs": [
    {
     "name": "stdout",
     "output_type": "stream",
     "text": [
      "TUTORIAL\n",
      "length  8\n",
      "labels  (6, 1, 1)\n",
      "types   (0, 0, 0, 0)\n",
      "\n",
      "WARMUP\n",
      "length  8\n",
      "labels  (6, 0, 2)\n",
      "types   (2, 2, 2, 2)\n",
      "\n",
      "RELATED_WORK_ROWE\n",
      "length  2\n",
      "labels  (1, 0, 1)\n",
      "types   (2, 0, 0, 0)\n",
      "\n",
      "MAIN_SECTION_1\n",
      "length  63\n",
      "labels  (20, 12, 31)\n",
      "types   (17, 17, 5, 24)\n",
      "\n",
      "MAIN_SECTION_2\n",
      "length  24\n",
      "labels  (13, 0, 11)\n",
      "types   (6, 14, 0, 4)\n",
      "\n",
      "EXTRA_SECTION\n",
      "length  77\n",
      "labels  (40, 11, 26)\n",
      "types   (9, 25, 8, 35)\n",
      "\n"
     ]
    }
   ],
   "source": [
    "# number of queries with label neutral, risky, deceptive\n",
    "def label_statistic(queries):\n",
    "    n = len([q for q in QUERIES.values() if q.label == \"neutral\" and q.id in queries])\n",
    "    r = len([q for q in QUERIES.values() if q.label == \"risky\" and q.id in queries])\n",
    "    d = len([q for q in QUERIES.values() if q.label == \"deceptive\" and q.id in queries])\n",
    "    return n, r, d\n",
    "\n",
    "\n",
    "# number of queries of type filesystem, httpheaders, htaccess, networkrequests\n",
    "def type_statistics(queries):\n",
    "    f = len([q for q in QUERIES.values() if q.type == \"filesystem\" and q.id in queries])\n",
    "    h = len([q for q in QUERIES.values() if q.type == \"httpheaders\" and q.id in queries])\n",
    "    a = len([q for q in QUERIES.values() if q.type == \"htaccess\" and q.id in queries])\n",
    "    n = len([q for q in QUERIES.values() if q.type == \"networkrequests\" and q.id in queries])\n",
    "    return f, h, a, n\n",
    "\n",
    "\n",
    "for bucket, queries in BUCKETS.items():\n",
    "    print(bucket.upper())\n",
    "    print(\"length \", len(queries))\n",
    "    print(\"labels \", label_statistic(queries))\n",
    "    print(\"types  \", type_statistics(queries))\n",
    "    print()\n"
   ]
  }
 ],
 "metadata": {
  "kernelspec": {
   "display_name": "honeyquest-36Gm5eJ_-py3.10",
   "language": "python",
   "name": "python3"
  },
  "language_info": {
   "codemirror_mode": {
    "name": "ipython",
    "version": 3
   },
   "file_extension": ".py",
   "mimetype": "text/x-python",
   "name": "python",
   "nbconvert_exporter": "python",
   "pygments_lexer": "ipython3",
   "version": "3.10.2"
  },
  "orig_nbformat": 4,
  "vscode": {
   "interpreter": {
    "hash": "591b219f2d2663ba62a9c0a86fb534af7d704779d6016c984fe5cee549810e85"
   }
  }
 },
 "nbformat": 4,
 "nbformat_minor": 2
}
