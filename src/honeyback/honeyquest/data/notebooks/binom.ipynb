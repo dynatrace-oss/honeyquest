{
 "cells": [
  {
   "cell_type": "markdown",
   "metadata": {},
   "source": [
    "### Resources\n",
    "\n",
    "- https://de.wikipedia.org/wiki/Konfidenzintervall_f%C3%BCr_die_Erfolgswahrscheinlichkeit_der_Binomialverteilung\n",
    "- https://doi.org/10.1214/ss/1009213286\n"
   ]
  },
  {
   "cell_type": "code",
   "execution_count": 8,
   "metadata": {},
   "outputs": [],
   "source": [
    "from math import sqrt\n",
    "from statistics import NormalDist\n",
    "\n",
    "\n",
    "def wald_ci(k, n, alpha=0.05):\n",
    "    # point estimate\n",
    "    p = k / n\n",
    "\n",
    "    # assert k >= 50 and n - k >= 50, \"sample size too small\"\n",
    "\n",
    "    # error margin\n",
    "    normal = NormalDist()\n",
    "    c = normal.inv_cdf(1 - alpha / 2)\n",
    "\n",
    "    # wald interval, bounded to [0, 1]\n",
    "    se = c * sqrt(p * (1 - p) / n)\n",
    "    lo = max(0, p - se)\n",
    "    hi = min(1, p + se)\n",
    "\n",
    "    return lo, hi, se"
   ]
  },
  {
   "cell_type": "code",
   "execution_count": 9,
   "metadata": {},
   "outputs": [
    {
     "name": "stdout",
     "output_type": "stream",
     "text": [
      "How often did participants fall for traps?\n",
      "\n",
      "                 all  35.04% - 41.23% (±  3.10%)\n",
      "         file system  39.66% - 51.82% (±  6.08%)\n",
      "           .htaccess  37.26% - 60.04% (± 11.39%)\n",
      "      http responses  31.24% - 42.38% (±  5.57%)\n",
      "       http requests  25.83% - 35.89% (±  5.03%)\n"
     ]
    }
   ],
   "source": [
    "print(\"How often did participants fall for traps?\")\n",
    "print()\n",
    "print(\"{:>20}  {:6.2%} - {:6.2%} (± {:6.2%})\".format(\"all\", *wald_ci(360, 944)))\n",
    "print(\"{:>20}  {:6.2%} - {:6.2%} (± {:6.2%})\".format(\"file system\", *wald_ci(118, 258)))\n",
    "print(\"{:>20}  {:6.2%} - {:6.2%} (± {:6.2%})\".format(\".htaccess\", *wald_ci(36, 74)))\n",
    "print(\"{:>20}  {:6.2%} - {:6.2%} (± {:6.2%})\".format(\"http responses\", *wald_ci(106, 288)))\n",
    "print(\"{:>20}  {:6.2%} - {:6.2%} (± {:6.2%})\".format(\"http requests\", *wald_ci(100, 324)))"
   ]
  },
  {
   "cell_type": "code",
   "execution_count": 10,
   "metadata": {},
   "outputs": [
    {
     "name": "stdout",
     "output_type": "stream",
     "text": [
      "How often did participants detect traps?\n",
      "\n",
      "                 all  11.08% - 15.40% (±  2.16%)\n",
      "         file system  13.16% - 22.50% (±  4.67%)\n",
      "           .htaccess  12.24% - 31.00% (±  9.38%)\n",
      "      http responses   7.18% - 14.34% (±  3.58%)\n",
      "       http requests   6.63% - 13.13% (±  3.25%)\n"
     ]
    }
   ],
   "source": [
    "print(\"How often did participants detect traps?\")\n",
    "print()\n",
    "print(\"{:>20}  {:6.2%} - {:6.2%} (± {:6.2%})\".format(\"all\", *wald_ci(125, 944)))\n",
    "print(\"{:>20}  {:6.2%} - {:6.2%} (± {:6.2%})\".format(\"file system\", *wald_ci(46, 258)))\n",
    "print(\"{:>20}  {:6.2%} - {:6.2%} (± {:6.2%})\".format(\".htaccess\", *wald_ci(16, 74)))\n",
    "print(\"{:>20}  {:6.2%} - {:6.2%} (± {:6.2%})\".format(\"http responses\", *wald_ci(31, 288)))\n",
    "print(\"{:>20}  {:6.2%} - {:6.2%} (± {:6.2%})\".format(\"http requests\", *wald_ci(32, 324)))"
   ]
  },
  {
   "cell_type": "code",
   "execution_count": 11,
   "metadata": {},
   "outputs": [
    {
     "name": "stdout",
     "output_type": "stream",
     "text": [
      "ConfidenceInterval(low=0.3685091181841661, high=0.605578638225963)\n",
      "ConfidenceInterval(low=0.37611789648348765, high=0.5981888543110092)\n"
     ]
    }
   ],
   "source": [
    "from scipy.stats import binomtest\n",
    "\n",
    "print(binomtest(36, 74).proportion_ci(method=\"exact\"))\n",
    "print(binomtest(36, 74).proportion_ci(method=\"wilson\"))"
   ]
  },
  {
   "cell_type": "code",
   "execution_count": 12,
   "metadata": {},
   "outputs": [
    {
     "data": {
      "text/plain": [
       "BinomTestResult(k=36, n=74, alternative='two-sided', statistic=0.4864864864864865, pvalue=0.9075606176124984)"
      ]
     },
     "execution_count": 12,
     "metadata": {},
     "output_type": "execute_result"
    }
   ],
   "source": [
    "binomtest(36, 74)"
   ]
  }
 ],
 "metadata": {
  "kernelspec": {
   "display_name": "honeyquest-36Gm5eJ_-py3.10",
   "language": "python",
   "name": "python3"
  },
  "language_info": {
   "codemirror_mode": {
    "name": "ipython",
    "version": 3
   },
   "file_extension": ".py",
   "mimetype": "text/x-python",
   "name": "python",
   "nbconvert_exporter": "python",
   "pygments_lexer": "ipython3",
   "version": "3.10.2"
  }
 },
 "nbformat": 4,
 "nbformat_minor": 2
}
